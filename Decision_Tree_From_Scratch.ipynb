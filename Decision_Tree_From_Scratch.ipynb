{
 "cells": [
  {
   "cell_type": "markdown",
   "metadata": {},
   "source": [
    "**Decision Tree From Scratch**:\n",
    "\n",
    "\n",
    "First I import the needed libraries.I develop the values in pandas since it is easier to work with."
   ]
  },
  {
   "cell_type": "code",
   "execution_count": 58,
   "metadata": {},
   "outputs": [],
   "source": [
    "import numpy as np\n",
    "import pandas as pd\n",
    "import math"
   ]
  },
  {
   "cell_type": "code",
   "execution_count": 59,
   "metadata": {},
   "outputs": [],
   "source": [
    "data = {'Alt':['yes','yes','no','yes','yes','no','no','no','no','yes','no','yes'],\n",
    "        'Bar':['no','no','yes','no','no','yes','yes','no','yes','yes','no','yes'],\n",
    "        'Fri':['no','no','no','yes','yes','no','no','no','yes','yes','no','yes'],\n",
    "        'Hun':['yes','yes','no','yes','no','yes','no','yes','no','yes','no','yes'],\n",
    "        'Pat':['some','full','some','full','full','some','none','some','full','full','none','full'],\n",
    "        'Price':[3,1,1,1,3,2,1,2,1,3,1,1],\n",
    "        'Rain':['no','no','no','yes','no','yes','yes','yes','yes','no','no','no'],\n",
    "        'Res':['yes','no','no','no','yes','yes','no','yes','no','yes','no','no'],\n",
    "        'Type':['french','thai','burger','thai','french','italian','burger','thai','burger','italian','thai','burger'],\n",
    "        'Est':[1,3,1,2,4,1,1,1,4,2,1,3],\n",
    "        'y':['yes','no','yes','yes','no','yes','no','yes','no','no','no','yes']\n",
    "        }\n",
    "\n",
    "\n",
    "df = pd.DataFrame(data,columns=['Alt','Bar','Fri','Hun','Pat','Price','Rain','Res','Type','Est','y'])"
   ]
  },
  {
   "cell_type": "markdown",
   "metadata": {},
   "source": [
    "Now, for making the tree, I use the **mutual information** formula.\n",
    "\n",
    "\n",
    "Since H(y) is the same in entropies for all of the features, I only calculate the **conditional entropy**: H(y|x) and by minizing it, I find the nodes at each level of the tree.\n",
    "\n",
    "\n",
    "The below code is a function that calculates H(y|x) for each feature."
   ]
  },
  {
   "cell_type": "code",
   "execution_count": 60,
   "metadata": {},
   "outputs": [],
   "source": [
    "def conditional_entropy(df,feature):\n",
    "    eps = np.finfo(float).eps\n",
    "    labels = df.keys()[-1]   \n",
    "    label_values = df[labels].unique() \n",
    "    feature_values = df[feature].unique()\n",
    "    entropy2 = 0\n",
    "    for variable in feature_values:\n",
    "        entropy = 0\n",
    "        for label in label_values:\n",
    "            num = len(df[feature][df[feature] == variable][df[labels] == label])\n",
    "            den = len(df[feature][df[feature] == variable])\n",
    "            probability = num/(den+eps)\n",
    "            entropy += -probability * math.log2(probability+eps)\n",
    "            fraction2 = den/len(df)\n",
    "            entropy2 += -fraction2*entropy\n",
    "    return abs(entropy2)"
   ]
  },
  {
   "cell_type": "markdown",
   "metadata": {},
   "source": [
    "I define a function that finds the next node with minimum H(y|x):"
   ]
  },
  {
   "cell_type": "code",
   "execution_count": 61,
   "metadata": {},
   "outputs": [],
   "source": [
    "def next_level (df):\n",
    "    features_entropies = []\n",
    "    for key in df.keys()[:-1]:\n",
    "        features_entropies.append(conditional_entropy(df,key))\n",
    "    return df.keys()[:-1][np.argmin(features_entropies)]"
   ]
  },
  {
   "cell_type": "markdown",
   "metadata": {},
   "source": [
    "Now I define the final functin which implements the entire tree by using the above functions:"
   ]
  },
  {
   "cell_type": "code",
   "execution_count": 62,
   "metadata": {},
   "outputs": [],
   "source": [
    "def get_subtable(df, node,value):\n",
    "  return df[df[node] == value].reset_index(drop=True)\n",
    "  \n",
    "def buildTree(df,tree=None): \n",
    "    feature = next_level(df)\n",
    "    feature_Values = np.unique(df[feature])\n",
    "\n",
    "    if tree is None:                    \n",
    "        tree={}\n",
    "        tree[feature] = {}\n",
    "  \n",
    "    for value in feature_Values:\n",
    "        subtable = get_subtable(df,feature,value)\n",
    "        Value,counts = np.unique(subtable['y'],return_counts=True)                        \n",
    "        \n",
    "        if len(counts)==1:\n",
    "            tree[feature][value] = Value[0]                                                    \n",
    "        else:        \n",
    "            tree[feature][value] = buildTree(subtable)\n",
    "                   \n",
    "    return tree"
   ]
  },
  {
   "cell_type": "markdown",
   "metadata": {},
   "source": [
    "I print the implemented tree as below:"
   ]
  },
  {
   "cell_type": "code",
   "execution_count": 63,
   "metadata": {},
   "outputs": [
    {
     "name": "stdout",
     "output_type": "stream",
     "text": [
      "{'Pat': {'full': {'Hun': {'no': 'no',\n",
      "                          'yes': {'Type': {'burger': 'yes',\n",
      "                                           'italian': 'no',\n",
      "                                           'thai': {'Fri': {'no': 'no',\n",
      "                                                            'yes': 'yes'}}}}}},\n",
      "         'none': 'no',\n",
      "         'some': 'yes'}}\n"
     ]
    }
   ],
   "source": [
    "import pprint\n",
    "tree = buildTree(df)\n",
    "pprint.pprint(tree)"
   ]
  },
  {
   "cell_type": "markdown",
   "metadata": {},
   "source": [
    "As it can be seen from the above tree, by calculating the entropy of each feature at each level, the first node is the 'pat' feature, then it is 'hun', then 'type' and finally 'fri'."
   ]
  },
  {
   "cell_type": "code",
   "execution_count": null,
   "metadata": {},
   "outputs": [],
   "source": [
    "entropy_y = 0\n",
    "y_values = df.y.unique()\n",
    "for i in y_values:\n",
    "    probability = df.y.value_counts()[i]/len(df.y)  \n",
    "    entropy_y += -probability * math.log2(probability)"
   ]
  }
 ],
 "metadata": {
  "interpreter": {
   "hash": "eeab3e71adb6dbd0e75fb9a8c9bdb5e7c4aba7cf3fd60c4dcf30c1777b01516d"
  },
  "kernelspec": {
   "display_name": "Python 3",
   "language": "python",
   "name": "python3"
  },
  "language_info": {
   "codemirror_mode": {
    "name": "ipython",
    "version": 3
   },
   "file_extension": ".py",
   "mimetype": "text/x-python",
   "name": "python",
   "nbconvert_exporter": "python",
   "pygments_lexer": "ipython3",
   "version": "3.8.5"
  }
 },
 "nbformat": 4,
 "nbformat_minor": 2
}
