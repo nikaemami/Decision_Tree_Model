{
 "cells": [
  {
   "cell_type": "markdown",
   "metadata": {},
   "source": [
    "Same problem with python packages:"
   ]
  },
  {
   "cell_type": "code",
   "execution_count": 1,
   "metadata": {},
   "outputs": [],
   "source": [
    "from sklearn.tree import DecisionTreeClassifier \n",
    "from sklearn.model_selection import train_test_split \n",
    "from sklearn import metrics\n",
    "import pandas as pd"
   ]
  },
  {
   "cell_type": "markdown",
   "metadata": {},
   "source": [
    "I import pandas and develop our values in pandas since it is easier to work with."
   ]
  },
  {
   "cell_type": "code",
   "execution_count": 2,
   "metadata": {},
   "outputs": [],
   "source": [
    "data = {'Alt':['yes','yes','no','yes','yes','no','no','no','no','yes','no','yes'],\n",
    "        'Bar':['no','no','yes','no','no','yes','yes','no','yes','yes','no','yes'],\n",
    "        'Fri':['no','no','no','yes','yes','no','no','no','yes','yes','no','yes'],\n",
    "        'Hun':['yes','yes','no','yes','no','yes','no','yes','no','yes','no','yes'],\n",
    "        'Pat':['some','full','some','full','full','some','none','some','full','full','none','full'],\n",
    "        'Price':[3,1,1,1,3,2,1,2,1,3,1,1],\n",
    "        'Rain':['no','no','no','yes','no','yes','yes','yes','yes','no','no','no'],\n",
    "        'Res':['yes','no','no','no','yes','yes','no','yes','no','yes','no','no'],\n",
    "        'Type':['french','thai','burger','thai','french','italian','burger','thai','burger','italian','thai','burger'],\n",
    "        'Est':[1,3,1,2,4,1,1,1,4,2,1,3],\n",
    "        'y':['yes','no','yes','yes','no','yes','no','yes','no','no','no','yes']\n",
    "        }\n",
    "\n",
    "\n",
    "df = pd.DataFrame(data,columns=['Alt','Bar','Fri','Hun','Pat','Price','Rain','Res','Type','Est','y'])"
   ]
  },
  {
   "cell_type": "code",
   "execution_count": 4,
   "metadata": {},
   "outputs": [
    {
     "name": "stdout",
     "output_type": "stream",
     "text": [
      "0     yes\n",
      "1      no\n",
      "2     yes\n",
      "3     yes\n",
      "4      no\n",
      "5     yes\n",
      "6      no\n",
      "7     yes\n",
      "8      no\n",
      "9      no\n",
      "10     no\n",
      "11    yes\n",
      "Name: y, dtype: object\n"
     ]
    }
   ],
   "source": [
    "feature_cols = ['Alt', 'Bar', 'Fri', 'Hun', 'Pat', 'Price', 'Rain', 'Res', 'Type', 'Est']\n",
    "X = df[feature_cols]\n",
    "Y = df['y']"
   ]
  },
  {
   "cell_type": "markdown",
   "metadata": {},
   "source": [
    "I split the data into **test** and **train** data sets:"
   ]
  },
  {
   "cell_type": "code",
   "execution_count": null,
   "metadata": {},
   "outputs": [],
   "source": [
    "X_train, X_test, y_train, y_test = train_test_split(X, y, test_size=0.3, random_state=1)"
   ]
  },
  {
   "cell_type": "markdown",
   "metadata": {},
   "source": [
    "I use the packages for decision tree implementation as below, and it can be seen that the results are the same as the previous part."
   ]
  },
  {
   "cell_type": "code",
   "execution_count": null,
   "metadata": {},
   "outputs": [],
   "source": [
    "clf = DecisionTreeClassifier()\n",
    "clf = clf.fit(X_train,y_train)\n",
    "y_pred = clf.predict(X_test)"
   ]
  },
  {
   "cell_type": "code",
   "execution_count": null,
   "metadata": {},
   "outputs": [],
   "source": [
    "from sklearn.tree import export_graphviz\n",
    "import six\n",
    "import sys\n",
    "sys.modules['sklearn.externals.six'] = six\n",
    "from sklearn.externals.six import StringIO\n",
    "from IPython.display import Image  \n",
    "import pydotplus\n",
    "\n",
    "dot_data = StringIO()\n",
    "export_graphviz(clf, out_file=dot_data,  \n",
    "                filled=True, rounded=True,\n",
    "                special_characters=True,feature_names = feature_cols,class_names=['0','1'])\n",
    "graph = pydotplus.graph_from_dot_data(dot_data.getvalue())  \n",
    "graph.write_png('diabetes.png')\n",
    "Image(graph.create_png())"
   ]
  }
 ],
 "metadata": {
  "interpreter": {
   "hash": "eeab3e71adb6dbd0e75fb9a8c9bdb5e7c4aba7cf3fd60c4dcf30c1777b01516d"
  },
  "kernelspec": {
   "display_name": "Python 3",
   "language": "python",
   "name": "python3"
  },
  "language_info": {
   "codemirror_mode": {
    "name": "ipython",
    "version": 3
   },
   "file_extension": ".py",
   "mimetype": "text/x-python",
   "name": "python",
   "nbconvert_exporter": "python",
   "pygments_lexer": "ipython3",
   "version": "3.8.5"
  }
 },
 "nbformat": 4,
 "nbformat_minor": 2
}
